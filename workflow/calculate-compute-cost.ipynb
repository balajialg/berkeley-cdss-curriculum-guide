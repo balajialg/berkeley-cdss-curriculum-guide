{
 "cells": [
  {
   "cell_type": "markdown",
   "id": "0d5aa25a-939c-44b3-9781-9ac9161ea629",
   "metadata": {},
   "source": [
    "---\n",
    "title: GCP cloud cost simulator widget\n",
    "---"
   ]
  },
  {
   "cell_type": "markdown",
   "id": "8e1ab363-88e7-49a5-9690-b2625e955d0c",
   "metadata": {},
   "source": [
    "Enable computation on this page ⏻, then execute it ►, to display an interactive calculator. It can show you the cost for running CPU heavy workloads in standard virtual machines versus CPU optimized machines."
   ]
  },
  {
   "cell_type": "markdown",
   "id": "f7ef6b11-dfb6-402c-b439-b753b647aa70",
   "metadata": {},
   "source": [
    "```{code-cell} python\n",
    ":tags: remove-input\n",
    "import sys\n",
    "\n",
    "# Check if running inside JupyterLite (Pyodide)\n",
    "if \"pyodide\" in sys.modules:\n",
    "    import micropip\n",
    "    # Install ipywidgets in JupyterLite\n",
    "    await micropip.install(\"ipywidgets\")\n",
    "```"
   ]
  },
  {
   "cell_type": "markdown",
   "id": "33edc772-b562-4f23-baf6-58b492df5cfd",
   "metadata": {},
   "source": [
    "```{code-cell} python\n",
    ":tags: remove-input\n",
    "import ipywidgets as widgets\n",
    "from IPython.display import display\n",
    "from ipywidgets import Layout\n",
    "```"
   ]
  },
  {
   "cell_type": "markdown",
   "id": "f052e711-5bc5-4b30-9fad-78d04dad882c",
   "metadata": {},
   "source": [
    "```{code-cell} python\n",
    ":tags: remove-input\n",
    "# Pricing data for the latest instance costs in the Iowa Central region (us-central1)\n",
    "NODE_PRICING = {\n",
    "    'n2-highcpu-32': 27.93,  # Latest price for n2-highcpu-32\n",
    "    'n2-highcpu-96': 83.73,  # Latest price for n2-highcpu-96\n",
    "    'n2-highmem-32': 50.31,  # Latest price for n2-highmem-32\n",
    "}\n",
    "```"
   ]
  },
  {
   "cell_type": "markdown",
   "id": "2bb13dc7-d842-4e6a-8a4a-7e26acfa3048",
   "metadata": {},
   "source": [
    "```{code-cell} python\n",
    ":tags: remove-input\n",
    "# Function to calculate the total number of nodes and total cost\n",
    "def calculate_total_cost(node_type, num_cpus, num_students, num_days):\n",
    "    # Extract the number of CPUs in the node from the node type (e.g., 32 or 96)\n",
    "    node_capacity = int(node_type.split('-')[-1])\n",
    "    \n",
    "    # Calculate the number of students allocated per node\n",
    "    students_per_node = node_capacity / num_cpus\n",
    "    \n",
    "    # Calculate the total number of nodes needed\n",
    "    total_nodes = num_students / students_per_node\n",
    "    \n",
    "    # Get the node cost from the pricing dictionary\n",
    "    node_cost = NODE_PRICING[node_type]\n",
    "    \n",
    "    # Calculate the total cost for the given number of days\n",
    "    total_cost = total_nodes * node_cost * num_days\n",
    "    \n",
    "    return total_nodes, total_cost\n",
    "\n",
    "# Callback function for the button\n",
    "def on_button_click(b):\n",
    "    node_type = node_type_dropdown.value\n",
    "    num_cpus = int(num_cpus_dropdown.value)  # Extracting the number of CPUs (2 or 4)\n",
    "    num_students = int(students_input.value)\n",
    "    num_days = int(num_days_input.value)\n",
    "    \n",
    "    # Calculate total nodes and total cost\n",
    "    total_nodes, total_cost = calculate_total_cost(node_type, num_cpus, num_students, num_days)\n",
    "    \n",
    "    # Show result in text box\n",
    "    result_text.value = f\"Total nodes allocated: {total_nodes:.2f}\\nTotal cost for {num_days} days: ${total_cost:.2f}\"\n",
    "```"
   ]
  },
  {
   "cell_type": "markdown",
   "id": "7fab467f-78c3-44f8-81e0-24882de1e969",
   "metadata": {},
   "source": [
    "```{code-cell} python\n",
    ":tags: remove-input\n",
    "# Widget elements\n",
    "node_type_dropdown = widgets.Dropdown(\n",
    "    options=['n2-highcpu-32', 'n2-highcpu-96', 'n2-highmem-32'],\n",
    "    value='n2-highcpu-32',\n",
    "    description='Node Type:',\n",
    "    style={'description_width': 'auto'},\n",
    "    layout=Layout(width='50%', padding='1em')\n",
    ")\n",
    "\n",
    "num_cpus_dropdown = widgets.Dropdown(\n",
    "    options=['2', '4'],\n",
    "    value='4',\n",
    "    description='CPUs per Student:',\n",
    "    style={'description_width': 'auto'},\n",
    "    layout=Layout(width='50%', padding='1em')\n",
    ")\n",
    "\n",
    "students_input = widgets.IntText(\n",
    "    value=1200,\n",
    "    description='Total Students:',\n",
    "    style={'description_width': 'auto'},\n",
    "    layout=Layout(width='50%', padding='1em')\n",
    ")\n",
    "\n",
    "num_days_input = widgets.IntText(\n",
    "    value=12,\n",
    "    description='Number of Days:',\n",
    "    style={'description_width': 'auto'},\n",
    "    layout=Layout(width='50%', padding='1em')\n",
    ")\n",
    "```"
   ]
  },
  {
   "cell_type": "markdown",
   "id": "1ae0d62f-694d-4bca-9623-fc8031c27679",
   "metadata": {},
   "source": [
    "```{code-cell} python\n",
    ":tags: remove-input\n",
    "calculate_button = widgets.Button(\n",
    "    description='Calculate Total Cost',\n",
    "    button_style='success',\n",
    "    layout=Layout(width='50%')  # Set button width to 50% of the container width\n",
    ")\n",
    "\n",
    "# Improved result text box with larger size, center alignment, and padding for better spacing\n",
    "result_text = widgets.Textarea(\n",
    "    value='',\n",
    "    description='Result:',\n",
    "    disabled=True,\n",
    "    layout=Layout(width='50%', height='4em', padding='1em'),\n",
    "    style={'description_width': 'initial', 'text-align': 'center'}\n",
    ")\n",
    "\n",
    "# Attach the click event handler\n",
    "calculate_button.on_click(on_button_click)\n",
    "\n",
    "# Organize the widgets in two columns (HBox)\n",
    "input_columns = widgets.VBox([node_type_dropdown, num_cpus_dropdown, students_input, num_days_input, calculate_button], layout=Layout(width='100%', padding='1em'))\n",
    "\n",
    "# Final layout\n",
    "final_layout = widgets.VBox([\n",
    "    input_columns,\n",
    "    #calculate_button,\n",
    "    result_text\n",
    "], layout=Layout(padding='1em'))\n",
    "```"
   ]
  },
  {
   "cell_type": "markdown",
   "id": "36f11156-c283-429e-98b0-a641912425ff",
   "metadata": {},
   "source": [
    "```{code-cell} python\n",
    ":tags: remove-input\n",
    "# Display the entire widget setup\n",
    "display(final_layout)\n",
    "```"
   ]
  },
  {
   "cell_type": "code",
   "execution_count": null,
   "id": "a1180ae6-6c56-43cd-b622-5d14818dbe09",
   "metadata": {},
   "outputs": [],
   "source": []
  }
 ],
 "metadata": {
  "kernelspec": {
   "display_name": "Python 3 (ipykernel)",
   "language": "python",
   "name": "python3"
  },
  "language_info": {
   "codemirror_mode": {
    "name": "ipython",
    "version": 3
   },
   "file_extension": ".py",
   "mimetype": "text/x-python",
   "name": "python",
   "nbconvert_exporter": "python",
   "pygments_lexer": "ipython3",
   "version": "3.12.6"
  }
 },
 "nbformat": 4,
 "nbformat_minor": 5
}
