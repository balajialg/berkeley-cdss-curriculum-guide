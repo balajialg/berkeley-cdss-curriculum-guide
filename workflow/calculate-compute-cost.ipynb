{
 "cells": [
  {
   "cell_type": "markdown",
   "id": "d3e5b963-b7e9-4ee1-8732-a56da4dc8149",
   "metadata": {},
   "source": [
    "# GCP cloud cost simulator widget\n",
    "\n",
    "\n",
    "This interactive widget allows you to calculate the cost for running CPU heavy workloads in standard virtual machine vs CPU optimized machine"
   ]
  },
  {
   "cell_type": "code",
   "execution_count": 1,
   "id": "92feae99-edd5-4d23-bbac-0693a4e77087",
   "metadata": {},
   "outputs": [],
   "source": [
    "import sys\n",
    "\n",
    "# Check if running inside JupyterLite (Pyodide)\n",
    "if \"pyodide\" in sys.modules:\n",
    "    import micropip\n",
    "    # Install ipywidgets in JupyterLite\n",
    "    await micropip.install(\"ipywidgets\")"
   ]
  },
  {
   "cell_type": "code",
   "execution_count": 2,
   "id": "aeeb8fae-5f5f-4d2e-b344-f6e4d2ab0140",
   "metadata": {},
   "outputs": [],
   "source": [
    "import ipywidgets as widgets\n",
    "from IPython.display import display\n",
    "from ipywidgets import Layout"
   ]
  },
  {
   "cell_type": "code",
   "execution_count": 3,
   "id": "46998d91-adbd-4ddf-b7ef-478db83ab347",
   "metadata": {},
   "outputs": [],
   "source": [
    "# Pricing data for the latest instance costs in the Iowa Central region (us-central1)\n",
    "NODE_PRICING = {\n",
    "    'n2-highcpu-32': 27.93,  # Latest price for n2-highcpu-32\n",
    "    'n2-highcpu-96': 83.73,  # Latest price for n2-highcpu-96\n",
    "    'n2-highmem-32': 50.31,  # Latest price for n2-highmem-32\n",
    "}"
   ]
  },
  {
   "cell_type": "code",
   "execution_count": 4,
   "id": "63660908-e767-484c-80e6-aadd8dd20f9c",
   "metadata": {},
   "outputs": [],
   "source": [
    "# Function to calculate the total number of nodes and total cost\n",
    "def calculate_total_cost(node_type, num_cpus, num_students, num_days):\n",
    "    # Extract the number of CPUs in the node from the node type (e.g., 32 or 96)\n",
    "    node_capacity = int(node_type.split('-')[-1])\n",
    "    \n",
    "    # Calculate the number of students allocated per node\n",
    "    students_per_node = node_capacity / num_cpus\n",
    "    \n",
    "    # Calculate the total number of nodes needed\n",
    "    total_nodes = num_students / students_per_node\n",
    "    \n",
    "    # Get the node cost from the pricing dictionary\n",
    "    node_cost = NODE_PRICING[node_type]\n",
    "    \n",
    "    # Calculate the total cost for the given number of days\n",
    "    total_cost = total_nodes * node_cost * num_days\n",
    "    \n",
    "    return total_nodes, total_cost\n",
    "\n",
    "# Callback function for the button\n",
    "def on_button_click(b):\n",
    "    node_type = node_type_dropdown.value\n",
    "    num_cpus = int(num_cpus_dropdown.value)  # Extracting the number of CPUs (2 or 4)\n",
    "    num_students = int(students_input.value)\n",
    "    num_days = int(num_days_input.value)\n",
    "    \n",
    "    # Calculate total nodes and total cost\n",
    "    total_nodes, total_cost = calculate_total_cost(node_type, num_cpus, num_students, num_days)\n",
    "    \n",
    "    # Show result in text box\n",
    "    result_text.value = f\"Total nodes allocated: {total_nodes:.2f}\\nTotal cost for {num_days} days: ${total_cost:.2f}\""
   ]
  },
  {
   "cell_type": "code",
   "execution_count": 5,
   "id": "d4ea709b-8bc3-437b-8aee-09a4fdbc815c",
   "metadata": {},
   "outputs": [],
   "source": [
    "# Widget elements\n",
    "node_type_dropdown = widgets.Dropdown(\n",
    "    options=['n2-highcpu-32', 'n2-highcpu-96', 'n2-highmem-32'],\n",
    "    value='n2-highcpu-32',\n",
    "    description='Node Type:',\n",
    "    style={'description_width': 'auto'},\n",
    "    layout=Layout(width='50%', padding='1em')\n",
    ")\n",
    "\n",
    "num_cpus_dropdown = widgets.Dropdown(\n",
    "    options=['2', '4'],\n",
    "    value='4',\n",
    "    description='CPUs per Student:',\n",
    "    style={'description_width': 'auto'},\n",
    "    layout=Layout(width='50%', padding='1em')\n",
    ")\n",
    "\n",
    "students_input = widgets.IntText(\n",
    "    value=1200,\n",
    "    description='Total Students:',\n",
    "    style={'description_width': 'auto'},\n",
    "    layout=Layout(width='50%', padding='1em')\n",
    ")\n",
    "\n",
    "num_days_input = widgets.IntText(\n",
    "    value=12,\n",
    "    description='Number of Days:',\n",
    "    style={'description_width': 'auto'},\n",
    "    layout=Layout(width='50%', padding='1em')\n",
    ")"
   ]
  },
  {
   "cell_type": "code",
   "execution_count": 6,
   "id": "851f2d83-ad88-46fc-b74e-d390b627398e",
   "metadata": {},
   "outputs": [],
   "source": [
    "calculate_button = widgets.Button(\n",
    "    description='Calculate Total Cost',\n",
    "    button_style='success',\n",
    "    layout=Layout(width='50%')  # Set button width to 50% of the container width\n",
    ")\n",
    "\n",
    "# Improved result text box with larger size, center alignment, and padding for better spacing\n",
    "result_text = widgets.Textarea(\n",
    "    value='',\n",
    "    description='Result:',\n",
    "    disabled=True,\n",
    "    layout=Layout(width='50%', height='4em', padding='1em'),\n",
    "    style={'description_width': 'initial', 'text-align': 'center'}\n",
    ")\n",
    "\n",
    "# Attach the click event handler\n",
    "calculate_button.on_click(on_button_click)\n",
    "\n",
    "# Organize the widgets in two columns (HBox)\n",
    "input_columns = widgets.VBox([node_type_dropdown, num_cpus_dropdown, students_input, num_days_input, calculate_button], layout=Layout(width='100%', padding='1em'))\n",
    "\n",
    "# Final layout\n",
    "final_layout = widgets.VBox([\n",
    "    input_columns,\n",
    "    #calculate_button,\n",
    "    result_text\n",
    "], layout=Layout(padding='1em'))"
   ]
  },
  {
   "cell_type": "code",
   "execution_count": 7,
   "id": "77d7aee6-3179-4557-928c-18186b40ce18",
   "metadata": {},
   "outputs": [
    {
     "data": {
      "application/vnd.jupyter.widget-view+json": {
       "model_id": "3c3c8eddd397422faf311f576d5ceadd",
       "version_major": 2,
       "version_minor": 0
      },
      "text/plain": [
       "VBox(children=(VBox(children=(Dropdown(description='Node Type:', layout=Layout(padding='1em', width='50%'), op…"
      ]
     },
     "metadata": {},
     "output_type": "display_data"
    }
   ],
   "source": [
    "# Display the entire widget setup\n",
    "display(final_layout)"
   ]
  },
  {
   "cell_type": "code",
   "execution_count": null,
   "id": "a1180ae6-6c56-43cd-b622-5d14818dbe09",
   "metadata": {},
   "outputs": [],
   "source": []
  }
 ],
 "metadata": {
  "kernelspec": {
   "display_name": "Python 3 (ipykernel)",
   "language": "python",
   "name": "python3"
  },
  "language_info": {
   "codemirror_mode": {
    "name": "ipython",
    "version": 3
   },
   "file_extension": ".py",
   "mimetype": "text/x-python",
   "name": "python",
   "nbconvert_exporter": "python",
   "pygments_lexer": "ipython3",
   "version": "3.11.9"
  }
 },
 "nbformat": 4,
 "nbformat_minor": 5
}
